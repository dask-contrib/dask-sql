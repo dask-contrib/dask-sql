{
 "cells": [
  {
   "cell_type": "markdown",
   "metadata": {},
   "source": [
    "# dask-sql Introduction"
   ]
  },
  {
   "cell_type": "markdown",
   "metadata": {},
   "source": [
    "`dask-sql` lets you query your (dask) data using usual SQL language.\n",
    "You can find more information on the usage in the [documentation](https://dask-sql.readthedocs.io/)."
   ]
  },
  {
   "cell_type": "code",
   "execution_count": null,
   "metadata": {},
   "outputs": [],
   "source": [
    "from dask_sql import Context\n",
    "from dask.datasets import timeseries\n",
    "from dask.distributed import Client"
   ]
  },
  {
   "cell_type": "markdown",
   "metadata": {},
   "source": [
    "As a first step, we will create a dask client to connect to a local dask cluster (which is started implicitly).\n",
    "You can open the dashboard by clicking on the shown link (in binder, this is already open on the left)."
   ]
  },
  {
   "cell_type": "code",
   "execution_count": null,
   "metadata": {},
   "outputs": [],
   "source": [
    "client = Client()\n",
    "client"
   ]
  },
  {
   "cell_type": "markdown",
   "metadata": {},
   "source": [
    "Next, we create a context to hold the registered tables.\n",
    "You typically only do this once in your application."
   ]
  },
  {
   "cell_type": "code",
   "execution_count": null,
   "metadata": {},
   "outputs": [],
   "source": [
    "c = Context()"
   ]
  },
  {
   "cell_type": "markdown",
   "metadata": {},
   "source": [
    "Load the data and register it in the context. This will give the table a name.\n",
    "In this example, we generate random data.\n",
    "It is also possible to load data from file, S3, hdfs etc.\n",
    "Have a look into [Data Loading](https://dask-sql.readthedocs.io/en/latest/pages/data_input.html) for more information."
   ]
  },
  {
   "cell_type": "code",
   "execution_count": null,
   "metadata": {},
   "outputs": [],
   "source": [
    "df = timeseries()\n",
    "c.create_table(\"timeseries\", df)"
   ]
  },
  {
   "cell_type": "markdown",
   "metadata": {},
   "source": [
    "Now execute an SQL query. \n",
    "The result is a dask dataframe.\n",
    "\n",
    "The query looks for the id with the highest x for each name (this is just random test data, but you could think of looking for outliers in the sensor data)."
   ]
  },
  {
   "cell_type": "code",
   "execution_count": null,
   "metadata": {},
   "outputs": [],
   "source": [
    "result = c.sql(\"\"\"\n",
    "    SELECT\n",
    "        lhs.name,\n",
    "        lhs.id,\n",
    "        lhs.x\n",
    "    FROM\n",
    "        timeseries AS lhs\n",
    "    JOIN\n",
    "        (\n",
    "            SELECT\n",
    "                name AS max_name,\n",
    "                MAX(x) AS max_x\n",
    "            FROM timeseries\n",
    "            GROUP BY name\n",
    "        ) AS rhs\n",
    "    ON\n",
    "        lhs.name = rhs.max_name AND\n",
    "        lhs.x = rhs.max_x\n",
    "\"\"\")"
   ]
  },
  {
   "cell_type": "markdown",
   "metadata": {},
   "source": [
    "Now we can show the result:"
   ]
  },
  {
   "cell_type": "code",
   "execution_count": null,
   "metadata": {},
   "outputs": [],
   "source": [
    "result.compute()"
   ]
  },
  {
   "cell_type": "markdown",
   "metadata": {},
   "source": [
    "... or use it for any other dask calculation"
   ]
  },
  {
   "cell_type": "code",
   "execution_count": null,
   "metadata": {},
   "outputs": [],
   "source": [
    "result.x.mean().compute()"
   ]
  }
 ],
 "metadata": {
  "kernelspec": {
   "display_name": "Python 3",
   "language": "python",
   "name": "python3"
  },
  "language_info": {
   "codemirror_mode": {
    "name": "ipython",
    "version": 3
   },
   "file_extension": ".py",
   "mimetype": "text/x-python",
   "name": "python",
   "nbconvert_exporter": "python",
   "pygments_lexer": "ipython3",
   "version": "3.8.5"
  }
 },
 "nbformat": 4,
 "nbformat_minor": 4
}
